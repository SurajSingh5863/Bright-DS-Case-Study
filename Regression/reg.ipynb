{
 "cells": [
  {
   "cell_type": "raw",
   "id": "25f9fd59",
   "metadata": {},
   "source": [
    "1)\tThunder Basin Antelope Study\n",
    "\n",
    "The data (X1, X2, X3, X4) are for each year.\n",
    "X1 = spring fawn count/100\n",
    "X2 = size of adult antelope population/100\n",
    "X3 = annual precipitation (inches)\n",
    "X4 = winter severity index (1=mild,5=severe)\n"
   ]
  },
  {
   "cell_type": "code",
   "execution_count": 1,
   "id": "0daac72b",
   "metadata": {},
   "outputs": [],
   "source": [
    "import pandas as pd\n",
    "import numpy as np\n",
    "import matplotlib.pyplot as plt\n",
    "import seaborn as sns\n",
    "from sklearn.model_selection import train_test_split\n",
    "from sklearn.linear_model import LinearRegression\n",
    "from sklearn.linear_model import LogisticRegression"
   ]
  },
  {
   "cell_type": "code",
   "execution_count": 2,
   "id": "68591c93",
   "metadata": {},
   "outputs": [],
   "source": [
    "antelope_df = pd.read_csv(\"mlr01.csv\")"
   ]
  },
  {
   "cell_type": "code",
   "execution_count": 3,
   "id": "4cf8d07a",
   "metadata": {},
   "outputs": [
    {
     "data": {
      "text/html": [
       "<div>\n",
       "<style scoped>\n",
       "    .dataframe tbody tr th:only-of-type {\n",
       "        vertical-align: middle;\n",
       "    }\n",
       "\n",
       "    .dataframe tbody tr th {\n",
       "        vertical-align: top;\n",
       "    }\n",
       "\n",
       "    .dataframe thead th {\n",
       "        text-align: right;\n",
       "    }\n",
       "</style>\n",
       "<table border=\"1\" class=\"dataframe\">\n",
       "  <thead>\n",
       "    <tr style=\"text-align: right;\">\n",
       "      <th></th>\n",
       "      <th>X1</th>\n",
       "      <th>X2</th>\n",
       "      <th>X3</th>\n",
       "      <th>X4</th>\n",
       "    </tr>\n",
       "  </thead>\n",
       "  <tbody>\n",
       "    <tr>\n",
       "      <th>0</th>\n",
       "      <td>2.9</td>\n",
       "      <td>9.2</td>\n",
       "      <td>13.2</td>\n",
       "      <td>2</td>\n",
       "    </tr>\n",
       "    <tr>\n",
       "      <th>1</th>\n",
       "      <td>2.4</td>\n",
       "      <td>8.7</td>\n",
       "      <td>11.5</td>\n",
       "      <td>3</td>\n",
       "    </tr>\n",
       "    <tr>\n",
       "      <th>2</th>\n",
       "      <td>2.0</td>\n",
       "      <td>7.2</td>\n",
       "      <td>10.8</td>\n",
       "      <td>4</td>\n",
       "    </tr>\n",
       "    <tr>\n",
       "      <th>3</th>\n",
       "      <td>2.3</td>\n",
       "      <td>8.5</td>\n",
       "      <td>12.3</td>\n",
       "      <td>2</td>\n",
       "    </tr>\n",
       "    <tr>\n",
       "      <th>4</th>\n",
       "      <td>3.2</td>\n",
       "      <td>9.6</td>\n",
       "      <td>12.6</td>\n",
       "      <td>3</td>\n",
       "    </tr>\n",
       "  </tbody>\n",
       "</table>\n",
       "</div>"
      ],
      "text/plain": [
       "    X1   X2    X3  X4\n",
       "0  2.9  9.2  13.2   2\n",
       "1  2.4  8.7  11.5   3\n",
       "2  2.0  7.2  10.8   4\n",
       "3  2.3  8.5  12.3   2\n",
       "4  3.2  9.6  12.6   3"
      ]
     },
     "execution_count": 3,
     "metadata": {},
     "output_type": "execute_result"
    }
   ],
   "source": [
    "antelope_df.head()"
   ]
  },
  {
   "cell_type": "code",
   "execution_count": 4,
   "id": "bc1cd184",
   "metadata": {},
   "outputs": [],
   "source": [
    "x = antelope_df.drop(\"X1\", axis=1)\n",
    "y = antelope_df[\"X1\"]"
   ]
  },
  {
   "cell_type": "code",
   "execution_count": 5,
   "id": "aff67404",
   "metadata": {},
   "outputs": [
    {
     "data": {
      "image/png": "[encoded data removed]",
      "text/plain": [
       "<Figure size 432x288 with 1 Axes>"
      ]
     },
     "metadata": {
      "needs_background": "light"
     },
     "output_type": "display_data"
    }
   ],
   "source": [
    "plt.scatter(x['X4'],y)\n",
    "m,b = np.polyfit(x['X4'],y,deg=1)\n",
    "plt.plot(x['X4'],m*x['X4']+b)\n",
    "plt.show()"
   ]
  },
  {
   "cell_type": "code",
   "execution_count": 6,
   "id": "209d58bd",
   "metadata": {},
   "outputs": [],
   "source": [
    "#Splitting the dataset\n",
    "\n",
    "x_train, x_test, y_train, y_test = train_test_split(x, y, test_size = 0.3, random_state = 42)"
   ]
  },
  {
   "cell_type": "markdown",
   "id": "3c392802",
   "metadata": {},
   "source": [
    "# Feature Scaling"
   ]
  },
  {
   "cell_type": "code",
   "execution_count": 7,
   "id": "70cf7dd8",
   "metadata": {},
   "outputs": [],
   "source": [
    "# cor = x_train.corr()\n",
    "# sns.heatmap(cor, cmap=plt.cm.CMRmap_r, annot=True)\n",
    "# plt.show()"
   ]
  },
  {
   "cell_type": "code",
   "execution_count": 8,
   "id": "5ea166c2",
   "metadata": {},
   "outputs": [],
   "source": [
    "# with the following function we can  select highly correlated features\n",
    "# it will remove the first feature that is correlated with anything other feature\n",
    "\n",
    "# def correlation(datasets,threshold):\n",
    "#     col_corr = set()   # set name of all the correlated columns\n",
    "#     corr_matrix = datasets.corr()\n",
    "#     for i in range(len(corr_matrix.columns)):\n",
    "#         for j in range(i):\n",
    "#             if (corr_matrix.iloc[i,j]) > threshold: #  we are intrestedin absolute coeff value\n",
    "#                 colname = corr_matrix.columns[i]   # getting name of column\n",
    "#                 col_corr.add(colname)\n",
    "#     return col_corr\n",
    "    "
   ]
  },
  {
   "cell_type": "code",
   "execution_count": 9,
   "id": "6fedbeee",
   "metadata": {},
   "outputs": [],
   "source": [
    "# corr_feature = correlation(x_train,0.9)\n",
    "# len(set(corr_feature))"
   ]
  },
  {
   "cell_type": "code",
   "execution_count": 10,
   "id": "c81d32f1",
   "metadata": {},
   "outputs": [],
   "source": [
    "# corr_feature"
   ]
  },
  {
   "cell_type": "code",
   "execution_count": 11,
   "id": "9c448224",
   "metadata": {},
   "outputs": [],
   "source": [
    "# x_test.drop(corr_feature,axis=1)\n",
    "# x_train.drop(corr_feature,axis=1)"
   ]
  },
  {
   "cell_type": "code",
   "execution_count": 12,
   "id": "d9574e0f",
   "metadata": {},
   "outputs": [],
   "source": [
    "from sklearn.preprocessing import StandardScaler\n",
    "sc = StandardScaler()\n",
    "x_train = sc.fit_transform(x_train)\n",
    "x_test = sc.transform(x_test)\n"
   ]
  },
  {
   "cell_type": "code",
   "execution_count": 13,
   "id": "5a1ef710",
   "metadata": {},
   "outputs": [
    {
     "data": {
      "text/plain": [
       "LinearRegression()"
      ]
     },
     "execution_count": 13,
     "metadata": {},
     "output_type": "execute_result"
    }
   ],
   "source": [
    "#Fitting the Multiple Linear Regression model\n",
    "mlr = LinearRegression()  \n",
    "mlr.fit(x_train, y_train)"
   ]
  },
  {
   "cell_type": "code",
   "execution_count": 13,
   "id": "aef92666",
   "metadata": {},
   "outputs": [
    {
     "name": "stdout",
     "output_type": "stream",
     "text": [
      "Coefficients:\n"
     ]
    },
    {
     "data": {
      "text/plain": [
       "[('X1', 1.2303134197482135),\n",
       " ('X2', -0.329553668150266),\n",
       " ('X3', -1.726822688670937)]"
      ]
     },
     "execution_count": 13,
     "metadata": {},
     "output_type": "execute_result"
    }
   ],
   "source": [
    "#Intercept and Coefficientprint(\"Intercept: \", mlr.intercept_)\n",
    "print(\"Coefficients:\")\n",
    "list(zip(x, mlr.coef_))"
   ]
  },
  {
   "cell_type": "code",
   "execution_count": 14,
   "id": "063f0fea",
   "metadata": {
    "scrolled": true
   },
   "outputs": [
    {
     "name": "stdout",
     "output_type": "stream",
     "text": [
      "Prediction for test set: [2.36320421 2.19911024 3.09793665]\n"
     ]
    },
    {
     "data": {
      "text/plain": [
       "pandas.core.series.Series"
      ]
     },
     "execution_count": 14,
     "metadata": {},
     "output_type": "execute_result"
    }
   ],
   "source": [
    "#Prediction of test set\n",
    "y_pred_mlr= mlr.predict(x_test)\n",
    "#Predicted values\n",
    "print(\"Prediction for test set: {}\".format(y_pred_mlr))\n",
    "type(y_train)"
   ]
  },
  {
   "cell_type": "code",
   "execution_count": 18,
   "id": "933176f3",
   "metadata": {},
   "outputs": [
    {
     "data": {
      "text/html": [
       "<div>\n",
       "<style scoped>\n",
       "    .dataframe tbody tr th:only-of-type {\n",
       "        vertical-align: middle;\n",
       "    }\n",
       "\n",
       "    .dataframe tbody tr th {\n",
       "        vertical-align: top;\n",
       "    }\n",
       "\n",
       "    .dataframe thead th {\n",
       "        text-align: right;\n",
       "    }\n",
       "</style>\n",
       "<table border=\"1\" class=\"dataframe\">\n",
       "  <thead>\n",
       "    <tr style=\"text-align: right;\">\n",
       "      <th></th>\n",
       "      <th>Actual value</th>\n",
       "      <th>Predicted value</th>\n",
       "    </tr>\n",
       "  </thead>\n",
       "  <tbody>\n",
       "    <tr>\n",
       "      <th>7</th>\n",
       "      <td>3</td>\n",
       "      <td>3.264258</td>\n",
       "    </tr>\n",
       "    <tr>\n",
       "      <th>2</th>\n",
       "      <td>4</td>\n",
       "      <td>3.886937</td>\n",
       "    </tr>\n",
       "    <tr>\n",
       "      <th>4</th>\n",
       "      <td>3</td>\n",
       "      <td>2.923163</td>\n",
       "    </tr>\n",
       "    <tr>\n",
       "      <th>3</th>\n",
       "      <td>2</td>\n",
       "      <td>1.845563</td>\n",
       "    </tr>\n",
       "    <tr>\n",
       "      <th>6</th>\n",
       "      <td>1</td>\n",
       "      <td>1.080078</td>\n",
       "    </tr>\n",
       "  </tbody>\n",
       "</table>\n",
       "</div>"
      ],
      "text/plain": [
       "   Actual value  Predicted value\n",
       "7             3         3.264258\n",
       "2             4         3.886937\n",
       "4             3         2.923163\n",
       "3             2         1.845563\n",
       "6             1         1.080078"
      ]
     },
     "execution_count": 18,
     "metadata": {},
     "output_type": "execute_result"
    }
   ],
   "source": [
    "#Actual value and the predicted value\n",
    "mlr_diff = pd.DataFrame({'Actual value': y_train, 'Predicted value': mlr.predict(x_train)})\n",
    "mlr_diff.head()"
   ]
  },
  {
   "cell_type": "code",
   "execution_count": 15,
   "id": "e7d8ed9a",
   "metadata": {},
   "outputs": [
    {
     "data": {
      "text/html": [
       "<div>\n",
       "<style scoped>\n",
       "    .dataframe tbody tr th:only-of-type {\n",
       "        vertical-align: middle;\n",
       "    }\n",
       "\n",
       "    .dataframe tbody tr th {\n",
       "        vertical-align: top;\n",
       "    }\n",
       "\n",
       "    .dataframe thead th {\n",
       "        text-align: right;\n",
       "    }\n",
       "</style>\n",
       "<table border=\"1\" class=\"dataframe\">\n",
       "  <thead>\n",
       "    <tr style=\"text-align: right;\">\n",
       "      <th></th>\n",
       "      <th>Actual value</th>\n",
       "      <th>Predicted value</th>\n",
       "    </tr>\n",
       "  </thead>\n",
       "  <tbody>\n",
       "    <tr>\n",
       "      <th>1</th>\n",
       "      <td>3</td>\n",
       "      <td>3.178198</td>\n",
       "    </tr>\n",
       "    <tr>\n",
       "      <th>5</th>\n",
       "      <td>5</td>\n",
       "      <td>4.109831</td>\n",
       "    </tr>\n",
       "    <tr>\n",
       "      <th>0</th>\n",
       "      <td>2</td>\n",
       "      <td>1.534213</td>\n",
       "    </tr>\n",
       "  </tbody>\n",
       "</table>\n",
       "</div>"
      ],
      "text/plain": [
       "   Actual value  Predicted value\n",
       "1             3         3.178198\n",
       "5             5         4.109831\n",
       "0             2         1.534213"
      ]
     },
     "execution_count": 15,
     "metadata": {},
     "output_type": "execute_result"
    }
   ],
   "source": [
    "#Actual value and the predicted value\n",
    "mlr_diff = pd.DataFrame({'Actual value': y_test, 'Predicted value': y_pred_mlr})\n",
    "mlr_diff.head()"
   ]
  },
  {
   "cell_type": "code",
   "execution_count": 16,
   "id": "6aacd666",
   "metadata": {},
   "outputs": [
    {
     "name": "stdout",
     "output_type": "stream",
     "text": [
      "R squared: -31581.32\n",
      "Mean Absolute Error: 0.5113845744007198\n",
      "Mean Square Error: 0.34703750889175033\n",
      "Root Mean Square Error: 0.5890988956803012\n"
     ]
    },
    {
     "name": "stderr",
     "output_type": "stream",
     "text": [
      "C:\\Users\\91820\\anaconda3\\envs\\tensorflow\\lib\\site-packages\\sklearn\\base.py:439: UserWarning: X has feature names, but LinearRegression was fitted without feature names\n",
      "  f\"X has feature names, but {self.__class__.__name__} was fitted without\"\n"
     ]
    }
   ],
   "source": [
    "#Model Evaluation\n",
    "from sklearn import metrics\n",
    "meanAbErr = metrics.mean_absolute_error(y_test, y_pred_mlr)\n",
    "meanSqErr = metrics.mean_squared_error(y_test, y_pred_mlr)\n",
    "rootMeanSqErr = np.sqrt(metrics.mean_squared_error(y_test, y_pred_mlr))\n",
    "print('R squared: {:.2f}'.format(mlr.score(x,y)*100))\n",
    "print('Mean Absolute Error:', meanAbErr)\n",
    "print('Mean Square Error:', meanSqErr)\n",
    "print('Root Mean Square Error:', rootMeanSqErr)"
   ]
  },
  {
   "cell_type": "raw",
   "id": "48536982",
   "metadata": {},
   "source": [
    "2) Systolic Blood Pressure Data\n",
    "\n",
    "The data (X1, X2, X3) are for each patient.\n",
    "X1 = systolic blood pressure\n",
    "X2 = age in years\n",
    "X3 = weight in pounds\n"
   ]
  },
  {
   "cell_type": "code",
   "execution_count": 53,
   "id": "15a5e13f",
   "metadata": {},
   "outputs": [],
   "source": [
    "import matplotlib.pyplot as plt\n",
    "import numpy as np\n",
    "import pandas as pd\n",
    "\n",
    "df = pd.read_csv('mlr02.csv')\n",
    "X = df.values"
   ]
  },
  {
   "cell_type": "code",
   "execution_count": 29,
   "id": "8bcec066",
   "metadata": {},
   "outputs": [
    {
     "data": {
      "image/png": "[encoded data removed]",
      "text/plain": [
       "<Figure size 432x288 with 1 Axes>"
      ]
     },
     "metadata": {
      "needs_background": "light"
     },
     "output_type": "display_data"
    }
   ],
   "source": [
    "# using age to predict systolic blood pressure\n",
    "plt.scatter(X[:,1], X[:,0])\n",
    "plt.show()\n",
    "# looks pretty linear!\n"
   ]
  },
  {
   "cell_type": "code",
   "execution_count": 30,
   "id": "5b48378a",
   "metadata": {},
   "outputs": [
    {
     "data": {
      "image/png": "[encoded data removed]",
      "text/plain": [
       "<Figure size 432x288 with 1 Axes>"
      ]
     },
     "metadata": {
      "needs_background": "light"
     },
     "output_type": "display_data"
    }
   ],
   "source": [
    "# using weight to predict systolic blood pressure\n",
    "plt.scatter(X[:,2], X[:,0])\n",
    "plt.show()\n",
    "# looks pretty linear!\n",
    "\n",
    "df['ones'] = 1\n",
    "Y = df['X1']\n",
    "X = df[['X2', 'X3', 'ones']]\n",
    "X2only = df[['X2', 'ones']]\n",
    "X3only = df[['X3', 'ones']]\n"
   ]
  },
  {
   "cell_type": "code",
   "execution_count": 31,
   "id": "a03171a3",
   "metadata": {},
   "outputs": [],
   "source": [
    "def get_r2(X, Y):\n",
    "    w = np.linalg.solve( X.T.dot(X), X.T.dot(Y) )\n",
    "    Yhat = X.dot(w)\n",
    "\n",
    "    # determine how good the model is by computing the r-squared\n",
    "    d1 = Y - Yhat\n",
    "    d2 = Y - Y.mean()\n",
    "    r2 = 1 - d1.dot(d1) / d2.dot(d2)\n",
    "    return r2"
   ]
  },
  {
   "cell_type": "code",
   "execution_count": 32,
   "id": "a4d57659",
   "metadata": {},
   "outputs": [
    {
     "name": "stdout",
     "output_type": "stream",
     "text": [
      "r2 for x2 only: 0.9578407208147356\n",
      "r2 for x3 only: 0.9419952085293065\n",
      "r2 for both: 0.9768471041502091\n"
     ]
    }
   ],
   "source": [
    "print(\"r2 for x2 only:\", get_r2(X2only, Y))\n",
    "print(\"r2 for x3 only:\", get_r2(X3only, Y))\n",
    "print(\"r2 for both:\", get_r2(X, Y))"
   ]
  },
  {
   "cell_type": "raw",
   "id": "6f0bb94d",
   "metadata": {},
   "source": [
    "3)\tTest Scores for General Psychology\n",
    "\n",
    "The data (X1, X2, X3, X4) are for each student.\n",
    "X1 = score on exam #1\n",
    "X2 = score on exam #2\n",
    "X3 = score on exam #3\n",
    "X4 = score on final exam\n"
   ]
  },
  {
   "cell_type": "code",
   "execution_count": 19,
   "id": "aa987ce7",
   "metadata": {},
   "outputs": [
    {
     "data": {
      "text/html": [
       "<div>\n",
       "<style scoped>\n",
       "    .dataframe tbody tr th:only-of-type {\n",
       "        vertical-align: middle;\n",
       "    }\n",
       "\n",
       "    .dataframe tbody tr th {\n",
       "        vertical-align: top;\n",
       "    }\n",
       "\n",
       "    .dataframe thead th {\n",
       "        text-align: right;\n",
       "    }\n",
       "</style>\n",
       "<table border=\"1\" class=\"dataframe\">\n",
       "  <thead>\n",
       "    <tr style=\"text-align: right;\">\n",
       "      <th></th>\n",
       "      <th>EXAM1</th>\n",
       "      <th>EXAM2</th>\n",
       "      <th>EXAM3</th>\n",
       "      <th>FINAL</th>\n",
       "    </tr>\n",
       "  </thead>\n",
       "  <tbody>\n",
       "    <tr>\n",
       "      <th>0</th>\n",
       "      <td>73</td>\n",
       "      <td>80</td>\n",
       "      <td>75</td>\n",
       "      <td>152</td>\n",
       "    </tr>\n",
       "    <tr>\n",
       "      <th>1</th>\n",
       "      <td>93</td>\n",
       "      <td>88</td>\n",
       "      <td>93</td>\n",
       "      <td>185</td>\n",
       "    </tr>\n",
       "    <tr>\n",
       "      <th>2</th>\n",
       "      <td>89</td>\n",
       "      <td>91</td>\n",
       "      <td>90</td>\n",
       "      <td>180</td>\n",
       "    </tr>\n",
       "    <tr>\n",
       "      <th>3</th>\n",
       "      <td>96</td>\n",
       "      <td>98</td>\n",
       "      <td>100</td>\n",
       "      <td>196</td>\n",
       "    </tr>\n",
       "    <tr>\n",
       "      <th>4</th>\n",
       "      <td>73</td>\n",
       "      <td>66</td>\n",
       "      <td>70</td>\n",
       "      <td>142</td>\n",
       "    </tr>\n",
       "  </tbody>\n",
       "</table>\n",
       "</div>"
      ],
      "text/plain": [
       "   EXAM1  EXAM2  EXAM3  FINAL\n",
       "0     73     80     75    152\n",
       "1     93     88     93    185\n",
       "2     89     91     90    180\n",
       "3     96     98    100    196\n",
       "4     73     66     70    142"
      ]
     },
     "execution_count": 19,
     "metadata": {},
     "output_type": "execute_result"
    }
   ],
   "source": [
    "data = pd.read_csv('mlr03.csv')\n",
    "data.head()"
   ]
  },
  {
   "cell_type": "code",
   "execution_count": 20,
   "id": "1137dc74",
   "metadata": {},
   "outputs": [],
   "source": [
    "x = data.drop('FINAL', axis=1)\n",
    "y = data['FINAL']"
   ]
  },
  {
   "cell_type": "code",
   "execution_count": 21,
   "id": "fecfb637",
   "metadata": {},
   "outputs": [],
   "source": [
    "#Splitting the dataset\n",
    "\n",
    "x_train, x_test, y_train, y_test = train_test_split(x, y, test_size = 0.3, random_state = 42)"
   ]
  },
  {
   "cell_type": "code",
   "execution_count": 22,
   "id": "364acfb8",
   "metadata": {},
   "outputs": [
    {
     "data": {
      "text/plain": [
       "LinearRegression()"
      ]
     },
     "execution_count": 22,
     "metadata": {},
     "output_type": "execute_result"
    }
   ],
   "source": [
    "#Fitting the Multiple Linear Regression model\n",
    "mlr = LinearRegression()  \n",
    "mlr.fit(x_train, y_train)"
   ]
  },
  {
   "cell_type": "code",
   "execution_count": 23,
   "id": "1cdda6f2",
   "metadata": {},
   "outputs": [
    {
     "name": "stdout",
     "output_type": "stream",
     "text": [
      "Coefficients:\n"
     ]
    },
    {
     "data": {
      "text/plain": [
       "[('EXAM1', 0.27578917563505273),\n",
       " ('EXAM2', 0.529003002718804),\n",
       " ('EXAM3', 1.271316212493793)]"
      ]
     },
     "execution_count": 23,
     "metadata": {},
     "output_type": "execute_result"
    }
   ],
   "source": [
    "#Intercept and Coefficientprint(\"Intercept: \", mlr.intercept_)\n",
    "print(\"Coefficients:\")\n",
    "list(zip(x, mlr.coef_))"
   ]
  },
  {
   "cell_type": "code",
   "execution_count": 24,
   "id": "2d00e107",
   "metadata": {},
   "outputs": [
    {
     "name": "stdout",
     "output_type": "stream",
     "text": [
      "Prediction for test set: [174.72219769 142.15512642 152.32040905 149.64952073 142.28668027\n",
      " 165.21222484 151.43251168 184.95190841]\n"
     ]
    }
   ],
   "source": [
    "#Prediction of test set\n",
    "y_pred_mlr= mlr.predict(x_test)\n",
    "#Predicted values\n",
    "print(\"Prediction for test set: {}\".format(y_pred_mlr))"
   ]
  },
  {
   "cell_type": "code",
   "execution_count": null,
   "id": "6fe8dad8",
   "metadata": {},
   "outputs": [],
   "source": [
    "#Actual value and the predicted value\n",
    "mlr_diff = pd.DataFrame({'Actual value': y_test, 'Predicted value': y_pred_mlr})\n",
    "mlr_diff.head()"
   ]
  },
  {
   "cell_type": "code",
   "execution_count": null,
   "id": "f3ac4749",
   "metadata": {},
   "outputs": [],
   "source": [
    "#Model Evaluation\n",
    "from sklearn import metrics\n",
    "meanAbErr = metrics.mean_absolute_error(y_test, y_pred_mlr)\n",
    "meanSqErr = metrics.mean_squared_error(y_test, y_pred_mlr)\n",
    "rootMeanSqErr = np.sqrt(metrics.mean_squared_error(y_test, y_pred_mlr))\n",
    "print('R squared: {:.2f}'.format(mlr.score(x,y)*100))\n",
    "print('Mean Absolute Error:', meanAbErr)\n",
    "print('Mean Square Error:', meanSqErr)\n",
    "print('Root Mean Square Error:', rootMeanSqErr)"
   ]
  },
  {
   "cell_type": "raw",
   "id": "64bc2c4b",
   "metadata": {},
   "source": [
    "4)\tHollywood Movies\n",
    "\n",
    "The data (X1, X2, X3, X4) are for each movie\n",
    "X1 = first year box office receipts/millions\n",
    "X2 = total production costs/millions\n",
    "X3 = total promotional costs/millions\n",
    "X4 = total book sales/millions\n"
   ]
  },
  {
   "cell_type": "code",
   "execution_count": 25,
   "id": "aeb946f4",
   "metadata": {},
   "outputs": [],
   "source": [
    "import numpy as np\n",
    "import pandas as pd\n",
    "import matplotlib.pyplot as plt\n",
    "import seaborn as sns"
   ]
  },
  {
   "cell_type": "code",
   "execution_count": 26,
   "id": "d1189b94",
   "metadata": {},
   "outputs": [],
   "source": [
    "data = pd.read_csv('mlr04.csv')"
   ]
  },
  {
   "cell_type": "code",
   "execution_count": 27,
   "id": "dfd0afbb",
   "metadata": {},
   "outputs": [
    {
     "data": {
      "text/html": [
       "<div>\n",
       "<style scoped>\n",
       "    .dataframe tbody tr th:only-of-type {\n",
       "        vertical-align: middle;\n",
       "    }\n",
       "\n",
       "    .dataframe tbody tr th {\n",
       "        vertical-align: top;\n",
       "    }\n",
       "\n",
       "    .dataframe thead th {\n",
       "        text-align: right;\n",
       "    }\n",
       "</style>\n",
       "<table border=\"1\" class=\"dataframe\">\n",
       "  <thead>\n",
       "    <tr style=\"text-align: right;\">\n",
       "      <th></th>\n",
       "      <th>X1</th>\n",
       "      <th>X2</th>\n",
       "      <th>X3</th>\n",
       "      <th>X4</th>\n",
       "    </tr>\n",
       "  </thead>\n",
       "  <tbody>\n",
       "    <tr>\n",
       "      <th>0</th>\n",
       "      <td>85.099998</td>\n",
       "      <td>8.5</td>\n",
       "      <td>5.100000</td>\n",
       "      <td>4.7</td>\n",
       "    </tr>\n",
       "    <tr>\n",
       "      <th>1</th>\n",
       "      <td>106.300003</td>\n",
       "      <td>12.9</td>\n",
       "      <td>5.800000</td>\n",
       "      <td>8.8</td>\n",
       "    </tr>\n",
       "    <tr>\n",
       "      <th>2</th>\n",
       "      <td>50.200001</td>\n",
       "      <td>5.2</td>\n",
       "      <td>2.100000</td>\n",
       "      <td>15.1</td>\n",
       "    </tr>\n",
       "    <tr>\n",
       "      <th>3</th>\n",
       "      <td>130.600006</td>\n",
       "      <td>10.7</td>\n",
       "      <td>8.399999</td>\n",
       "      <td>12.2</td>\n",
       "    </tr>\n",
       "    <tr>\n",
       "      <th>4</th>\n",
       "      <td>54.799999</td>\n",
       "      <td>3.1</td>\n",
       "      <td>2.900000</td>\n",
       "      <td>10.6</td>\n",
       "    </tr>\n",
       "  </tbody>\n",
       "</table>\n",
       "</div>"
      ],
      "text/plain": [
       "           X1    X2        X3    X4\n",
       "0   85.099998   8.5  5.100000   4.7\n",
       "1  106.300003  12.9  5.800000   8.8\n",
       "2   50.200001   5.2  2.100000  15.1\n",
       "3  130.600006  10.7  8.399999  12.2\n",
       "4   54.799999   3.1  2.900000  10.6"
      ]
     },
     "execution_count": 27,
     "metadata": {},
     "output_type": "execute_result"
    }
   ],
   "source": [
    "data.head()"
   ]
  },
  {
   "cell_type": "code",
   "execution_count": null,
   "id": "4ffe835c",
   "metadata": {},
   "outputs": [],
   "source": [
    "sns.pairplot(data)"
   ]
  },
  {
   "cell_type": "code",
   "execution_count": null,
   "id": "3165d409",
   "metadata": {},
   "outputs": [],
   "source": [
    "sns.regplot(data=data, x=data['X2'],y=data['X1'])"
   ]
  },
  {
   "cell_type": "code",
   "execution_count": null,
   "id": "76f4b15d",
   "metadata": {},
   "outputs": [],
   "source": [
    "sns.regplot(data=data, x=data['X3'],y=data['X1'])"
   ]
  },
  {
   "cell_type": "code",
   "execution_count": null,
   "id": "0a714301",
   "metadata": {},
   "outputs": [],
   "source": [
    "sns.regplot(data=data, x=data['X4'],y=data['X1'])"
   ]
  },
  {
   "cell_type": "code",
   "execution_count": null,
   "id": "0ade65f1",
   "metadata": {},
   "outputs": [],
   "source": [
    "x = data.drop(\"X1\", axis=1)\n",
    "y = data[\"X1\"]"
   ]
  },
  {
   "cell_type": "code",
   "execution_count": null,
   "id": "f088e281",
   "metadata": {},
   "outputs": [],
   "source": [
    "#Splitting the dataset\n",
    "\n",
    "x_train, x_test, y_train, y_test = train_test_split(x, y, test_size = 0.3, random_state = 42)"
   ]
  },
  {
   "cell_type": "code",
   "execution_count": null,
   "id": "13aa5597",
   "metadata": {},
   "outputs": [],
   "source": [
    "#Fitting the Multiple Linear Regression model\n",
    "mlr = LinearRegression()  \n",
    "mlr.fit(x_train, y_train)"
   ]
  },
  {
   "cell_type": "code",
   "execution_count": null,
   "id": "79e00079",
   "metadata": {},
   "outputs": [],
   "source": [
    "#Intercept and Coefficientprint(\"Intercept: \", mlr.intercept_)\n",
    "print(\"Coefficients:\")\n",
    "list(zip(x, mlr.coef_))"
   ]
  },
  {
   "cell_type": "code",
   "execution_count": null,
   "id": "0631be45",
   "metadata": {},
   "outputs": [],
   "source": [
    "#Prediction of test set\n",
    "y_pred_mlr= mlr.predict(x_test)\n",
    "#Predicted values\n",
    "print(\"Prediction for test set: {}\".format(y_pred_mlr))"
   ]
  },
  {
   "cell_type": "code",
   "execution_count": null,
   "id": "d2aed37a",
   "metadata": {},
   "outputs": [],
   "source": [
    "#Actual value and the predicted value\n",
    "mlr_diff = pd.DataFrame({'Actual value': y_test, 'Predicted value': y_pred_mlr})\n",
    "mlr_diff.head()"
   ]
  },
  {
   "cell_type": "code",
   "execution_count": null,
   "id": "42e43775",
   "metadata": {},
   "outputs": [],
   "source": [
    "#Model Evaluation\n",
    "from sklearn import metrics\n",
    "meanAbErr = metrics.mean_absolute_error(y_test, y_pred_mlr)\n",
    "meanSqErr = metrics.mean_squared_error(y_test, y_pred_mlr)\n",
    "rootMeanSqErr = np.sqrt(metrics.mean_squared_error(y_test, y_pred_mlr))\n",
    "print('R squared: {:.2f}'.format(mlr.score(x,y)*100))\n",
    "print('Mean Absolute Error:', meanAbErr)\n",
    "print('Mean Square Error:', meanSqErr)\n",
    "print('Root Mean Square Error:', rootMeanSqErr)"
   ]
  },
  {
   "cell_type": "raw",
   "id": "f49bd465",
   "metadata": {},
   "source": [
    "5)\tHealth\n",
    "\n",
    "The data (X1, X2, X3, X4, X5) are by city.\n",
    "X1 = death rate per 1000 residents\n",
    "X2 = doctor availability per 100,000 residents\n",
    "X3 = hospital availability per 100,000 residents\n",
    "X4 = annual per capita income in thousands of dollars\n",
    "X5 = population density people per square mile\n"
   ]
  },
  {
   "cell_type": "code",
   "execution_count": null,
   "id": "2f21d8a0",
   "metadata": {},
   "outputs": [],
   "source": [
    "data = pd.read_csv('mlr07.csv')\n",
    "data.head()"
   ]
  },
  {
   "cell_type": "code",
   "execution_count": null,
   "id": "6b900bfc",
   "metadata": {},
   "outputs": [],
   "source": [
    "x = data.drop(\"X3\", axis=1)\n",
    "y = data[\"X3\"]"
   ]
  },
  {
   "cell_type": "code",
   "execution_count": null,
   "id": "82a017be",
   "metadata": {},
   "outputs": [],
   "source": [
    "plt.scatter(x['X2'],y)"
   ]
  },
  {
   "cell_type": "code",
   "execution_count": null,
   "id": "d085a609",
   "metadata": {},
   "outputs": [],
   "source": [
    "#Splitting the dataset\n",
    "\n",
    "x_train, x_test, y_train, y_test = train_test_split(x, y, test_size = 0.3, random_state = 42)"
   ]
  },
  {
   "cell_type": "code",
   "execution_count": null,
   "id": "641600e0",
   "metadata": {},
   "outputs": [],
   "source": [
    "#Fitting the Multiple Linear Regression model\n",
    "mlr = LinearRegression()  \n",
    "mlr.fit(x_train, y_train)"
   ]
  },
  {
   "cell_type": "code",
   "execution_count": null,
   "id": "6e2990f4",
   "metadata": {},
   "outputs": [],
   "source": [
    "#Intercept and Coefficientprint(\"Intercept: \", mlr.intercept_)\n",
    "print(\"Coefficients:\")\n",
    "list(zip(x, mlr.coef_))"
   ]
  },
  {
   "cell_type": "code",
   "execution_count": null,
   "id": "1ee1f58c",
   "metadata": {},
   "outputs": [],
   "source": [
    "#Prediction of test set\n",
    "y_pred_mlr= mlr.predict(x_test)\n",
    "#Predicted values\n",
    "print(\"Prediction for test set: {}\".format(y_pred_mlr))"
   ]
  },
  {
   "cell_type": "code",
   "execution_count": null,
   "id": "3454607d",
   "metadata": {},
   "outputs": [],
   "source": [
    "#Actual value and the predicted value\n",
    "mlr_diff = pd.DataFrame({'Actual value': y_test, 'Predicted value': y_pred_mlr})\n",
    "mlr_diff.head()"
   ]
  },
  {
   "cell_type": "code",
   "execution_count": null,
   "id": "941375bf",
   "metadata": {},
   "outputs": [],
   "source": [
    "#Model Evaluation\n",
    "from sklearn import metrics\n",
    "meanAbErr = metrics.mean_absolute_error(y_test, y_pred_mlr)\n",
    "meanSqErr = metrics.mean_squared_error(y_test, y_pred_mlr)\n",
    "rootMeanSqErr = np.sqrt(metrics.mean_squared_error(y_test, y_pred_mlr))\n",
    "print('R squared: {:.2f}'.format(mlr.score(x,y)*100))\n",
    "print('Mean Absolute Error:', meanAbErr)\n",
    "print('Mean Square Error:', meanSqErr)\n",
    "print('Root Mean Square Error:', rootMeanSqErr)"
   ]
  },
  {
   "cell_type": "code",
   "execution_count": null,
   "id": "250bce57",
   "metadata": {},
   "outputs": [],
   "source": []
  }
 ],
 "metadata": {
  "kernelspec": {
   "display_name": "Python 3 (ipykernel)",
   "language": "python",
   "name": "python3"
  },
  "language_info": {
   "codemirror_mode": {
    "name": "ipython",
    "version": 3
   },
   "file_extension": ".py",
   "mimetype": "text/x-python",
   "name": "python",
   "nbconvert_exporter": "python",
   "pygments_lexer": "ipython3",
   "version": "3.7.1"
  }
 },
 "nbformat": 4,
 "nbformat_minor": 5
}
